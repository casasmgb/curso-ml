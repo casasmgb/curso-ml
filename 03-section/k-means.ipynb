{
 "cells": [
  {
   "cell_type": "code",
   "execution_count": null,
   "metadata": {},
   "outputs": [],
   "source": [
    "import numpy as np \n",
    "import pandas as pd \n",
    "import matplotlib.pyplot as plt \n",
    "from sklearn.cluster import KMeans\n",
    "import io\n",
    "import requests\n",
    "import plotly as py\n",
    "import plotly.graph_objs as go\n",
    "\n",
    "import warnings\n",
    "warnings.filterwarnings('ignore')"
   ]
  },
  {
   "cell_type": "code",
   "execution_count": null,
   "metadata": {},
   "outputs": [],
   "source": [
    "# df = pd.read_csv('Mall_Customers.csv')\n",
    "url = 'https://raw.githubusercontent.com/casasmgb/curso-ml/main/03-section/Mall_Customers.csv'\n",
    "data = requests.get(url).content\n",
    "df = pd.read_csv(io.StringIO(data.decode('utf-8')))\n",
    "\n",
    "df.head()"
   ]
  },
  {
   "cell_type": "code",
   "execution_count": null,
   "metadata": {},
   "outputs": [],
   "source": [
    "df.info()"
   ]
  },
  {
   "cell_type": "code",
   "execution_count": null,
   "metadata": {},
   "outputs": [],
   "source": [
    "df.describe()"
   ]
  },
  {
   "cell_type": "code",
   "execution_count": null,
   "metadata": {},
   "outputs": [],
   "source": [
    "df.isnull().sum()"
   ]
  },
  {
   "attachments": {},
   "cell_type": "markdown",
   "metadata": {},
   "source": [
    "### Grafica basada en la edad y la puntuacion de gasto"
   ]
  },
  {
   "cell_type": "code",
   "execution_count": null,
   "metadata": {},
   "outputs": [],
   "source": [
    "plt.figure(1 , figsize = (15 , 7))\n",
    "plt.title('Dispersión de Edad v/s Puntuacion de Gasto', fontsize = 20)\n",
    "plt.xlabel('Edad')\n",
    "plt.ylabel('Puntuacion de Gasto')\n",
    "plt.scatter( x = 'edad', y = 'puntuacion_gasto', data = df, s = 100)\n",
    "plt.show()"
   ]
  },
  {
   "attachments": {},
   "cell_type": "markdown",
   "metadata": {},
   "source": [
    "### Identificacion de valor optimo de K"
   ]
  },
  {
   "cell_type": "code",
   "execution_count": null,
   "metadata": {},
   "outputs": [],
   "source": [
    "x1 = df[['edad' , 'puntuacion_gasto']].iloc[: , :].values\n",
    "inertia = []\n",
    "for n in range(1 , 15):\n",
    "    algorithm = (KMeans(n_clusters = n ,init='k-means++', n_init = 10 ,max_iter=300, \n",
    "                        tol=0.0001,  random_state= 111  , algorithm='elkan') )\n",
    "    algorithm.fit(x1)\n",
    "    inertia.append(algorithm.inertia_)"
   ]
  },
  {
   "cell_type": "code",
   "execution_count": null,
   "metadata": {},
   "outputs": [],
   "source": [
    "plt.figure(1 , figsize = (15 ,6))\n",
    "plt.plot(np.arange(1 , 15) , inertia , 'o')\n",
    "plt.plot(np.arange(1 , 15) , inertia , '-' , alpha = 0.5)\n",
    "plt.xlabel('Numero de clustes') , plt.ylabel('Inertia')\n",
    "plt.show()"
   ]
  },
  {
   "attachments": {},
   "cell_type": "markdown",
   "metadata": {},
   "source": [
    "### Aplicamos KMeans para un valor de K=4"
   ]
  },
  {
   "cell_type": "code",
   "execution_count": null,
   "metadata": {},
   "outputs": [],
   "source": [
    "algorithm = (KMeans(n_clusters = 4 ,init='k-means++', n_init = 10 ,max_iter=300, tol=0.0001,  random_state= 111  , algorithm='elkan') )\n",
    "algorithm.fit(x1)\n",
    "labels1 = algorithm.labels_\n",
    "centroids1 = algorithm.cluster_centers_"
   ]
  },
  {
   "cell_type": "code",
   "execution_count": null,
   "metadata": {},
   "outputs": [],
   "source": [
    "h = 0.02\n",
    "x_min, x_max = x1[:, 0].min() - 1, x1[:, 0].max() + 1\n",
    "y_min, y_max = x1[:, 1].min() - 1, x1[:, 1].max() + 1\n",
    "xx, yy = np.meshgrid(np.arange(x_min, x_max, h), np.arange(y_min, y_max, h))\n",
    "pred = algorithm.predict(np.c_[xx.ravel(), yy.ravel()]) "
   ]
  },
  {
   "cell_type": "code",
   "execution_count": null,
   "metadata": {},
   "outputs": [],
   "source": [
    "plt.figure(1 , figsize = (15 , 7) )\n",
    "plt.clf()\n",
    "pred = pred.reshape(xx.shape)\n",
    "plt.imshow(pred , interpolation='nearest', \n",
    "           extent=(xx.min(), xx.max(), yy.min(), yy.max()),\n",
    "           cmap = plt.cm.Pastel2, aspect = 'auto', origin='lower')\n",
    "\n",
    "plt.scatter(x = 'edad', y = 'puntuacion_gasto', data = df, c = labels1, s = 100)\n",
    "plt.scatter(x = centroids1[: , 0] , y =  centroids1[: , 1] , s = 300 , c = 'red' , alpha = 0.5)\n",
    "plt.ylabel('Puntuacion de Gasto') , plt.xlabel('Edad')\n",
    "plt.show()\n"
   ]
  },
  {
   "attachments": {},
   "cell_type": "markdown",
   "metadata": {},
   "source": [
    "### Grafica basada en Ingresos Anuales y la Puntuacion de Gasto"
   ]
  },
  {
   "cell_type": "code",
   "execution_count": null,
   "metadata": {},
   "outputs": [],
   "source": [
    "\n",
    "x2 = df[['ingreso_anual' , 'puntuacion_gasto']].iloc[: , :].values\n",
    "inertia = []\n",
    "for n in range(1 , 11):\n",
    "    algorithm = (KMeans(n_clusters = n ,init='k-means++', n_init = 10 ,max_iter=300, \n",
    "                        tol=0.0001,  random_state= 111  , algorithm='elkan') )\n",
    "    algorithm.fit(x2)\n",
    "    inertia.append(algorithm.inertia_)"
   ]
  },
  {
   "cell_type": "code",
   "execution_count": null,
   "metadata": {},
   "outputs": [],
   "source": [
    "plt.figure(1 , figsize = (15 ,6))\n",
    "plt.plot(np.arange(1 , 11) , inertia , 'o')\n",
    "plt.plot(np.arange(1 , 11) , inertia , '-' , alpha = 0.5)\n",
    "plt.xlabel('Numero de clustes') , plt.ylabel('Inertia')\n",
    "plt.show()"
   ]
  },
  {
   "cell_type": "code",
   "execution_count": null,
   "metadata": {},
   "outputs": [],
   "source": [
    "\n",
    "algorithm = (KMeans(n_clusters = 5 ,init='k-means++', n_init = 10 ,max_iter=300, tol=0.0001,  random_state= 111  , algorithm='elkan') )\n",
    "algorithm.fit(x2)\n",
    "labels2 = algorithm.labels_\n",
    "centroids2 = algorithm.cluster_centers_\n"
   ]
  },
  {
   "cell_type": "code",
   "execution_count": null,
   "metadata": {},
   "outputs": [],
   "source": [
    "h = 0.02\n",
    "x_min, x_max = x2[:, 0].min() - 1, x2[:, 0].max() + 1\n",
    "y_min, y_max = x2[:, 1].min() - 1, x2[:, 1].max() + 1\n",
    "xx, yy = np.meshgrid(np.arange(x_min, x_max, h), np.arange(y_min, y_max, h))\n",
    "Z2 = algorithm.predict(np.c_[xx.ravel(), yy.ravel()]) "
   ]
  },
  {
   "cell_type": "code",
   "execution_count": null,
   "metadata": {},
   "outputs": [],
   "source": [
    "plt.figure(1 , figsize = (15 , 7) )\n",
    "plt.clf()\n",
    "Z2 = Z2.reshape(xx.shape)\n",
    "plt.imshow(Z2 , interpolation='nearest', \n",
    "           extent=(xx.min(), xx.max(), yy.min(), yy.max()),\n",
    "           cmap = plt.cm.Pastel2, aspect = 'auto', origin='lower')\n",
    "\n",
    "plt.scatter( x = 'ingreso_anual' ,y = 'puntuacion_gasto' , data = df , c = labels2 , \n",
    "            s = 100 )\n",
    "plt.scatter(x = centroids2[: , 0] , y =  centroids2[: , 1] , s = 300 , c = 'red' , alpha = 0.5)\n",
    "plt.ylabel('Puntuacion de gasto') , plt.xlabel('Ingreso Anual')\n",
    "plt.show()"
   ]
  },
  {
   "attachments": {},
   "cell_type": "markdown",
   "metadata": {},
   "source": [
    "### Grafica basada en Edad, Ingresos Anuales y la Puntuacion de Gasto"
   ]
  },
  {
   "cell_type": "code",
   "execution_count": null,
   "metadata": {},
   "outputs": [],
   "source": [
    "X3 = df[['edad' , 'ingreso_anual' ,'puntuacion_gasto']].iloc[: , :].values\n",
    "inertia = []\n",
    "for n in range(1 , 11):\n",
    "    algorithm = (KMeans(n_clusters = n, init='k-means++', n_init = 10, max_iter=300, tol=0.0001, random_state= 111, algorithm='elkan'))\n",
    "    algorithm.fit(X3)\n",
    "    inertia.append(algorithm.inertia_)"
   ]
  },
  {
   "cell_type": "code",
   "execution_count": null,
   "metadata": {},
   "outputs": [],
   "source": [
    "plt.figure(1 , figsize = (15 ,6))\n",
    "plt.plot(np.arange(1 , 11) , inertia , 'o')\n",
    "plt.plot(np.arange(1 , 11) , inertia , '-' , alpha = 0.5)\n",
    "plt.xlabel('Numero de clustes') , plt.ylabel('Inertia')\n",
    "plt.show()"
   ]
  },
  {
   "cell_type": "code",
   "execution_count": null,
   "metadata": {},
   "outputs": [],
   "source": [
    "algorithm = (KMeans(n_clusters = 6 ,init='k-means++', n_init = 10 ,max_iter=300, tol=0.0001,  random_state= 111  , algorithm='elkan') )\n",
    "algorithm.fit(X3)\n",
    "labels3 = algorithm.labels_\n",
    "centroids3 = algorithm.cluster_centers_\n",
    "\n",
    "y_kmeans = algorithm.fit_predict(X3)\n",
    "df['cluster'] = pd.DataFrame(y_kmeans)\n",
    "df"
   ]
  },
  {
   "cell_type": "code",
   "execution_count": null,
   "metadata": {},
   "outputs": [],
   "source": [
    "trace1 = go.Scatter3d(\n",
    "    x= df['edad'],\n",
    "    y= df['puntuacion_gasto'],\n",
    "    z= df['ingreso_anual'],\n",
    "    mode='markers',\n",
    "     marker=dict(\n",
    "        color = df['cluster'], \n",
    "        size= 10,\n",
    "        line=dict(\n",
    "            color= df['cluster'],\n",
    "            width= 12\n",
    "        ),\n",
    "        opacity=0.8\n",
    "     )\n",
    ")\n",
    "data = [trace1]\n",
    "layout = go.Layout(\n",
    "    title= 'Edad, Ingresos Anuales y la Puntuacion de Gasto',\n",
    "    scene = dict(\n",
    "            xaxis = dict(title  = 'Edad'),\n",
    "            yaxis = dict(title  = 'Puntuacion de Gasto'),\n",
    "            zaxis = dict(title  = 'Ingreso Anual')\n",
    "        )\n",
    ")\n",
    "fig = go.Figure(data=data, layout=layout)\n",
    "py.offline.iplot(fig)"
   ]
  }
 ],
 "metadata": {
  "kernelspec": {
   "display_name": ".venv",
   "language": "python",
   "name": "python3"
  },
  "language_info": {
   "codemirror_mode": {
    "name": "ipython",
    "version": 3
   },
   "file_extension": ".py",
   "mimetype": "text/x-python",
   "name": "python",
   "nbconvert_exporter": "python",
   "pygments_lexer": "ipython3",
   "version": "3.9.2"
  },
  "orig_nbformat": 4
 },
 "nbformat": 4,
 "nbformat_minor": 2
}
