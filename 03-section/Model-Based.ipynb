{
 "cells": [
  {
   "cell_type": "code",
   "execution_count": null,
   "metadata": {},
   "outputs": [],
   "source": [
    "import numpy as np\n",
    "import pandas as pd\n",
    "import matplotlib.pyplot as plt\n",
    "from sklearn.mixture import GaussianMixture\n",
    "from sklearn.metrics import silhouette_score\n",
    "import io\n",
    "import requests"
   ]
  },
  {
   "cell_type": "code",
   "execution_count": null,
   "metadata": {},
   "outputs": [],
   "source": [
    "url = 'https://raw.githubusercontent.com/casasmgb/curso-ml/main/03-section/Mall_Customers.csv'\n",
    "data = requests.get(url).content\n",
    "df = pd.read_csv(io.StringIO(data.decode('utf-8')))"
   ]
  },
  {
   "cell_type": "code",
   "execution_count": null,
   "metadata": {},
   "outputs": [],
   "source": [
    "# X = df[['ingreso_anual' , 'puntuacion_gasto']].iloc[: , :].values\n",
    "# X = df[['edad' , 'ingreso_anual' ,'puntuacion_gasto']].iloc[: , :].values\n",
    "X = df[['edad' , 'puntuacion_gasto']].iloc[: , :].values\n",
    "\n",
    "\n",
    "# Encontrar el número óptimo de componentes usando el criterio AIC\n",
    "lowest_aic = np.inf\n",
    "best_n_components = None\n",
    "aic_values = []\n",
    "\n",
    "for n_components in range(1, 6):\n",
    "    model = GaussianMixture(n_components=n_components)\n",
    "    model.fit(X)\n",
    "    aic = model.aic(X)\n",
    "    aic_values.append(aic)\n",
    "    if aic < lowest_aic:\n",
    "        lowest_aic = aic\n",
    "        best_n_components = n_components\n",
    "\n",
    "# Graficar los valores de AIC para diferentes números de componentes\n",
    "plt.figure(figsize=(8, 5))\n",
    "plt.plot(range(1, 6), aic_values, marker='o')\n",
    "plt.title(\"Valores de AIC para Diferentes Números de Componentes\")\n",
    "plt.xlabel(\"Número de Componentes\")\n",
    "plt.ylabel(\"AIC\")\n",
    "plt.xticks(range(1, 6))\n",
    "plt.axvline(x=best_n_components, color='r', linestyle='--', label='Número óptimo de componentes')\n",
    "plt.legend()\n",
    "plt.show()"
   ]
  },
  {
   "cell_type": "markdown",
   "metadata": {},
   "source": [
    "### Aplicamos GaussianMixture para un valor de K=4"
   ]
  },
  {
   "cell_type": "code",
   "execution_count": null,
   "metadata": {},
   "outputs": [],
   "source": [
    "\n",
    "# Aplicar el algoritmo Gaussian Mixture Model (GMM) con el número óptimo de componentes\n",
    "model = GaussianMixture(n_components=best_n_components)\n",
    "labels = model.fit_predict(X)\n",
    "\n",
    "# Calcular el score de silhouette para evaluar la calidad del clustering\n",
    "silhouette_avg = silhouette_score(X, labels)\n",
    "\n",
    "# Visualizar los puntos y los resultados del clustering\n",
    "plt.figure(figsize=(10, 6))\n",
    "plt.scatter(X[:, 0], X[:, 1], c=labels, cmap=\"rainbow\")\n",
    "plt.title(f\"Clustering Model-Based (GMM) con {best_n_components} componentes\")\n",
    "plt.xlabel(\"edad\")\n",
    "plt.ylabel(\"puntuacion_gasto\")\n",
    "plt.show()\n",
    "print(f\"Score de silhouette: {silhouette_avg:.2f}\")"
   ]
  },
  {
   "cell_type": "markdown",
   "metadata": {},
   "source": [
    "El coeficiente de Silhouette (silhouette score) es una métrica de evaluación utilizada para medir cuán bien separados están los clusters obtenidos a través de un algoritmo de clustering."
   ]
  }
 ],
 "metadata": {
  "kernelspec": {
   "display_name": "Python 3",
   "language": "python",
   "name": "python3"
  },
  "language_info": {
   "codemirror_mode": {
    "name": "ipython",
    "version": 3
   },
   "file_extension": ".py",
   "mimetype": "text/x-python",
   "name": "python",
   "nbconvert_exporter": "python",
   "pygments_lexer": "ipython3",
   "version": "3.11.2"
  },
  "orig_nbformat": 4
 },
 "nbformat": 4,
 "nbformat_minor": 2
}
