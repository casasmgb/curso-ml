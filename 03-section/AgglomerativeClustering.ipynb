{
 "cells": [
  {
   "cell_type": "code",
   "execution_count": null,
   "metadata": {},
   "outputs": [],
   "source": [
    "import numpy as np\n",
    "import pandas as pd\n",
    "import matplotlib.pyplot as plt\n",
    "from sklearn.datasets import make_blobs\n",
    "from sklearn.cluster import KMeans\n",
    "from sklearn.cluster import AgglomerativeClustering\n",
    "from sklearn.metrics import silhouette_score\n",
    "import io\n",
    "import requests"
   ]
  },
  {
   "cell_type": "code",
   "execution_count": null,
   "metadata": {},
   "outputs": [],
   "source": [
    "url = 'https://raw.githubusercontent.com/casasmgb/curso-ml/main/03-section/Mall_Customers.csv'\n",
    "data = requests.get(url).content\n",
    "df = pd.read_csv(io.StringIO(data.decode('utf-8')))"
   ]
  },
  {
   "cell_type": "code",
   "execution_count": null,
   "metadata": {},
   "outputs": [],
   "source": [
    "# X = df[['ingreso_anual' , 'puntuacion_gasto']].iloc[: , :].values\n",
    "# X = df[['edad' , 'ingreso_anual' ,'puntuacion_gasto']].iloc[: , :].values\n",
    "X = df[['edad' , 'puntuacion_gasto']].iloc[: , :].values\n",
    "# Aplicar el algoritmo de Clustering Jerárquico Aglomerativo con diferentes cantidades de clusters\n",
    "max_clusters = 10\n",
    "scores = []\n",
    "for n_clusters in range(2, max_clusters + 1):\n",
    "    model = AgglomerativeClustering(n_clusters=n_clusters)\n",
    "    labels = model.fit_predict(X)\n",
    "    silhouette_avg = silhouette_score(X, labels)\n",
    "    scores.append(silhouette_avg)\n",
    "\n",
    "# Visualizar los resultados del método del codo\n",
    "plt.figure(figsize=(10, 6))\n",
    "plt.plot(range(2, max_clusters + 1), scores, marker='o')\n",
    "plt.title(\"Método del Codo para Determinar la Cantidad Óptima de Clusters\")\n",
    "plt.xlabel(\"Número de Clusters\")\n",
    "plt.ylabel(\"Score de Silhouette\")\n",
    "plt.xticks(range(2, max_clusters + 1))\n",
    "plt.show()"
   ]
  },
  {
   "cell_type": "markdown",
   "metadata": {},
   "source": [
    "### Aplicamos Clustering Jerárquico Aglomerativo para un valor de K=4"
   ]
  },
  {
   "cell_type": "code",
   "execution_count": null,
   "metadata": {},
   "outputs": [],
   "source": [
    "\n",
    "# Aplicar el algoritmo de Clustering Jerárquico Aglomerativo\n",
    "model = AgglomerativeClustering(n_clusters=5)\n",
    "labels = model.fit_predict(X)\n",
    "\n",
    "# Calcular el score de silhouette para evaluar la calidad del clustering\n",
    "silhouette_avg = silhouette_score(X, labels)\n",
    "\n",
    "# Visualizar los puntos y los resultados del clustering\n",
    "plt.figure(figsize=(10, 6))\n",
    "plt.scatter(X[:, 0], X[:, 1], c=labels, cmap=\"rainbow\")\n",
    "plt.title(\"Clustering Jerárquico Aglomerativo\")\n",
    "plt.xlabel(\"Característica 1\")\n",
    "plt.ylabel(\"Característica 2\")\n",
    "plt.show()\n",
    "\n",
    "print(f\"Score de silhouette: {silhouette_avg:.2f}\")"
   ]
  }
 ],
 "metadata": {
  "kernelspec": {
   "display_name": "Python 3",
   "language": "python",
   "name": "python3"
  },
  "language_info": {
   "codemirror_mode": {
    "name": "ipython",
    "version": 3
   },
   "file_extension": ".py",
   "mimetype": "text/x-python",
   "name": "python",
   "nbconvert_exporter": "python",
   "pygments_lexer": "ipython3",
   "version": "3.11.2"
  },
  "orig_nbformat": 4
 },
 "nbformat": 4,
 "nbformat_minor": 2
}
