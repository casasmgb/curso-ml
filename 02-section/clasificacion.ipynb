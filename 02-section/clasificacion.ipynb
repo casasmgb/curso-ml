{
 "cells": [
  {
   "attachments": {},
   "cell_type": "markdown",
   "metadata": {},
   "source": [
    "# REGRESION LOGISTICA\n",
    "## Predicción de insuficiencia cardíaca "
   ]
  },
  {
   "cell_type": "code",
   "execution_count": 44,
   "metadata": {},
   "outputs": [],
   "source": [
    "import pandas as pd\n",
    "from sklearn.model_selection import train_test_split\n",
    "from sklearn.preprocessing import StandardScaler\n",
    "from sklearn.preprocessing import MinMaxScaler\n",
    "from sklearn.linear_model import LogisticRegression\n",
    "from sklearn.svm import SVC\n",
    "from sklearn.neural_network import MLPClassifier\n",
    "from sklearn.metrics import f1_score\n",
    "import io\n",
    "import requests"
   ]
  },
  {
   "cell_type": "code",
   "execution_count": 45,
   "metadata": {},
   "outputs": [],
   "source": [
    "# df = pd.read_csv('heart_failure.csv')\n",
    "\n",
    "url = 'https://raw.githubusercontent.com/casasmgb/curso-ml/main/01-section/regression/heart_failure.csv'\n",
    "data = requests.get(url).content\n",
    "df = pd.read_csv(io.StringIO(data.decode('utf-8')))"
   ]
  },
  {
   "attachments": {},
   "cell_type": "markdown",
   "metadata": {},
   "source": [
    "Verificamos que no existan nulos o NaN"
   ]
  },
  {
   "cell_type": "code",
   "execution_count": 46,
   "metadata": {},
   "outputs": [
    {
     "name": "stdout",
     "output_type": "stream",
     "text": [
      "null value\n",
      " edad                       0\n",
      "anemia                     0\n",
      "creatinina_fosfoquinasa    0\n",
      "diabetes                   0\n",
      "fraccion_eyeccion          0\n",
      "presion_sanguinea_alta     0\n",
      "plaquetas                  0\n",
      "creatinina_serica          0\n",
      "sodio_serico               0\n",
      "sexo                       0\n",
      "tabaquismo                 0\n",
      "tiempo                     0\n",
      "EVENTO_MUERTE              0\n",
      "dtype: int64 \n",
      "\n",
      "NaN value\n",
      " edad                       0\n",
      "anemia                     0\n",
      "creatinina_fosfoquinasa    0\n",
      "diabetes                   0\n",
      "fraccion_eyeccion          0\n",
      "presion_sanguinea_alta     0\n",
      "plaquetas                  0\n",
      "creatinina_serica          0\n",
      "sodio_serico               0\n",
      "sexo                       0\n",
      "tabaquismo                 0\n",
      "tiempo                     0\n",
      "EVENTO_MUERTE              0\n",
      "dtype: int64 \n",
      "\n"
     ]
    }
   ],
   "source": [
    "print('null value\\n',df.isnull().sum(axis=0),'\\n')\n",
    "print('NaN value\\n',df.isna().sum(axis=0),'\\n')"
   ]
  },
  {
   "attachments": {},
   "cell_type": "markdown",
   "metadata": {},
   "source": [
    "Correlacion de edad y el evento de muerte"
   ]
  },
  {
   "attachments": {},
   "cell_type": "markdown",
   "metadata": {},
   "source": [
    "# Separado de datos de entrenamiento y prueba"
   ]
  },
  {
   "cell_type": "code",
   "execution_count": 47,
   "metadata": {},
   "outputs": [
    {
     "data": {
      "text/html": [
       "<div>\n",
       "<style scoped>\n",
       "    .dataframe tbody tr th:only-of-type {\n",
       "        vertical-align: middle;\n",
       "    }\n",
       "\n",
       "    .dataframe tbody tr th {\n",
       "        vertical-align: top;\n",
       "    }\n",
       "\n",
       "    .dataframe thead th {\n",
       "        text-align: right;\n",
       "    }\n",
       "</style>\n",
       "<table border=\"1\" class=\"dataframe\">\n",
       "  <thead>\n",
       "    <tr style=\"text-align: right;\">\n",
       "      <th></th>\n",
       "      <th>edad</th>\n",
       "      <th>anemia</th>\n",
       "      <th>creatinina_fosfoquinasa</th>\n",
       "      <th>diabetes</th>\n",
       "      <th>fraccion_eyeccion</th>\n",
       "      <th>presion_sanguinea_alta</th>\n",
       "      <th>plaquetas</th>\n",
       "      <th>creatinina_serica</th>\n",
       "      <th>sodio_serico</th>\n",
       "      <th>sexo</th>\n",
       "      <th>tabaquismo</th>\n",
       "      <th>tiempo</th>\n",
       "    </tr>\n",
       "  </thead>\n",
       "  <tbody>\n",
       "    <tr>\n",
       "      <th>0</th>\n",
       "      <td>0.636364</td>\n",
       "      <td>0.0</td>\n",
       "      <td>0.071319</td>\n",
       "      <td>0.0</td>\n",
       "      <td>0.090909</td>\n",
       "      <td>1.0</td>\n",
       "      <td>0.290823</td>\n",
       "      <td>0.157303</td>\n",
       "      <td>0.485714</td>\n",
       "      <td>1.0</td>\n",
       "      <td>0.0</td>\n",
       "      <td>0.000000</td>\n",
       "    </tr>\n",
       "    <tr>\n",
       "      <th>1</th>\n",
       "      <td>0.272727</td>\n",
       "      <td>0.0</td>\n",
       "      <td>1.000000</td>\n",
       "      <td>0.0</td>\n",
       "      <td>0.363636</td>\n",
       "      <td>0.0</td>\n",
       "      <td>0.288833</td>\n",
       "      <td>0.067416</td>\n",
       "      <td>0.657143</td>\n",
       "      <td>1.0</td>\n",
       "      <td>0.0</td>\n",
       "      <td>0.007117</td>\n",
       "    </tr>\n",
       "    <tr>\n",
       "      <th>2</th>\n",
       "      <td>0.454545</td>\n",
       "      <td>0.0</td>\n",
       "      <td>0.015693</td>\n",
       "      <td>0.0</td>\n",
       "      <td>0.090909</td>\n",
       "      <td>0.0</td>\n",
       "      <td>0.165960</td>\n",
       "      <td>0.089888</td>\n",
       "      <td>0.457143</td>\n",
       "      <td>1.0</td>\n",
       "      <td>1.0</td>\n",
       "      <td>0.010676</td>\n",
       "    </tr>\n",
       "    <tr>\n",
       "      <th>3</th>\n",
       "      <td>0.181818</td>\n",
       "      <td>1.0</td>\n",
       "      <td>0.011227</td>\n",
       "      <td>0.0</td>\n",
       "      <td>0.090909</td>\n",
       "      <td>0.0</td>\n",
       "      <td>0.224148</td>\n",
       "      <td>0.157303</td>\n",
       "      <td>0.685714</td>\n",
       "      <td>1.0</td>\n",
       "      <td>0.0</td>\n",
       "      <td>0.010676</td>\n",
       "    </tr>\n",
       "    <tr>\n",
       "      <th>4</th>\n",
       "      <td>0.454545</td>\n",
       "      <td>1.0</td>\n",
       "      <td>0.017479</td>\n",
       "      <td>1.0</td>\n",
       "      <td>0.090909</td>\n",
       "      <td>0.0</td>\n",
       "      <td>0.365984</td>\n",
       "      <td>0.247191</td>\n",
       "      <td>0.085714</td>\n",
       "      <td>0.0</td>\n",
       "      <td>0.0</td>\n",
       "      <td>0.014235</td>\n",
       "    </tr>\n",
       "    <tr>\n",
       "      <th>...</th>\n",
       "      <td>...</td>\n",
       "      <td>...</td>\n",
       "      <td>...</td>\n",
       "      <td>...</td>\n",
       "      <td>...</td>\n",
       "      <td>...</td>\n",
       "      <td>...</td>\n",
       "      <td>...</td>\n",
       "      <td>...</td>\n",
       "      <td>...</td>\n",
       "      <td>...</td>\n",
       "      <td>...</td>\n",
       "    </tr>\n",
       "    <tr>\n",
       "      <th>294</th>\n",
       "      <td>0.400000</td>\n",
       "      <td>0.0</td>\n",
       "      <td>0.004848</td>\n",
       "      <td>1.0</td>\n",
       "      <td>0.363636</td>\n",
       "      <td>1.0</td>\n",
       "      <td>0.157474</td>\n",
       "      <td>0.067416</td>\n",
       "      <td>0.857143</td>\n",
       "      <td>1.0</td>\n",
       "      <td>1.0</td>\n",
       "      <td>0.946619</td>\n",
       "    </tr>\n",
       "    <tr>\n",
       "      <th>295</th>\n",
       "      <td>0.272727</td>\n",
       "      <td>0.0</td>\n",
       "      <td>0.229268</td>\n",
       "      <td>0.0</td>\n",
       "      <td>0.363636</td>\n",
       "      <td>0.0</td>\n",
       "      <td>0.296884</td>\n",
       "      <td>0.078652</td>\n",
       "      <td>0.742857</td>\n",
       "      <td>0.0</td>\n",
       "      <td>0.0</td>\n",
       "      <td>0.950178</td>\n",
       "    </tr>\n",
       "    <tr>\n",
       "      <th>296</th>\n",
       "      <td>0.090909</td>\n",
       "      <td>0.0</td>\n",
       "      <td>0.259888</td>\n",
       "      <td>1.0</td>\n",
       "      <td>0.696970</td>\n",
       "      <td>0.0</td>\n",
       "      <td>0.869075</td>\n",
       "      <td>0.033708</td>\n",
       "      <td>0.714286</td>\n",
       "      <td>0.0</td>\n",
       "      <td>0.0</td>\n",
       "      <td>0.975089</td>\n",
       "    </tr>\n",
       "    <tr>\n",
       "      <th>297</th>\n",
       "      <td>0.090909</td>\n",
       "      <td>0.0</td>\n",
       "      <td>0.304925</td>\n",
       "      <td>0.0</td>\n",
       "      <td>0.363636</td>\n",
       "      <td>0.0</td>\n",
       "      <td>0.139290</td>\n",
       "      <td>0.101124</td>\n",
       "      <td>0.771429</td>\n",
       "      <td>1.0</td>\n",
       "      <td>1.0</td>\n",
       "      <td>0.982206</td>\n",
       "    </tr>\n",
       "    <tr>\n",
       "      <th>298</th>\n",
       "      <td>0.181818</td>\n",
       "      <td>0.0</td>\n",
       "      <td>0.022072</td>\n",
       "      <td>0.0</td>\n",
       "      <td>0.469697</td>\n",
       "      <td>0.0</td>\n",
       "      <td>0.448418</td>\n",
       "      <td>0.123596</td>\n",
       "      <td>0.657143</td>\n",
       "      <td>1.0</td>\n",
       "      <td>1.0</td>\n",
       "      <td>1.000000</td>\n",
       "    </tr>\n",
       "  </tbody>\n",
       "</table>\n",
       "<p>299 rows × 12 columns</p>\n",
       "</div>"
      ],
      "text/plain": [
       "         edad  anemia  creatinina_fosfoquinasa  diabetes  fraccion_eyeccion  \\\n",
       "0    0.636364     0.0                 0.071319       0.0           0.090909   \n",
       "1    0.272727     0.0                 1.000000       0.0           0.363636   \n",
       "2    0.454545     0.0                 0.015693       0.0           0.090909   \n",
       "3    0.181818     1.0                 0.011227       0.0           0.090909   \n",
       "4    0.454545     1.0                 0.017479       1.0           0.090909   \n",
       "..        ...     ...                      ...       ...                ...   \n",
       "294  0.400000     0.0                 0.004848       1.0           0.363636   \n",
       "295  0.272727     0.0                 0.229268       0.0           0.363636   \n",
       "296  0.090909     0.0                 0.259888       1.0           0.696970   \n",
       "297  0.090909     0.0                 0.304925       0.0           0.363636   \n",
       "298  0.181818     0.0                 0.022072       0.0           0.469697   \n",
       "\n",
       "     presion_sanguinea_alta  plaquetas  creatinina_serica  sodio_serico  sexo  \\\n",
       "0                       1.0   0.290823           0.157303      0.485714   1.0   \n",
       "1                       0.0   0.288833           0.067416      0.657143   1.0   \n",
       "2                       0.0   0.165960           0.089888      0.457143   1.0   \n",
       "3                       0.0   0.224148           0.157303      0.685714   1.0   \n",
       "4                       0.0   0.365984           0.247191      0.085714   0.0   \n",
       "..                      ...        ...                ...           ...   ...   \n",
       "294                     1.0   0.157474           0.067416      0.857143   1.0   \n",
       "295                     0.0   0.296884           0.078652      0.742857   0.0   \n",
       "296                     0.0   0.869075           0.033708      0.714286   0.0   \n",
       "297                     0.0   0.139290           0.101124      0.771429   1.0   \n",
       "298                     0.0   0.448418           0.123596      0.657143   1.0   \n",
       "\n",
       "     tabaquismo    tiempo  \n",
       "0           0.0  0.000000  \n",
       "1           0.0  0.007117  \n",
       "2           1.0  0.010676  \n",
       "3           0.0  0.010676  \n",
       "4           0.0  0.014235  \n",
       "..          ...       ...  \n",
       "294         1.0  0.946619  \n",
       "295         0.0  0.950178  \n",
       "296         0.0  0.975089  \n",
       "297         1.0  0.982206  \n",
       "298         1.0  1.000000  \n",
       "\n",
       "[299 rows x 12 columns]"
      ]
     },
     "execution_count": 47,
     "metadata": {},
     "output_type": "execute_result"
    }
   ],
   "source": [
    "x = df.drop('EVENTO_MUERTE', axis = 1)\n",
    "y = df['EVENTO_MUERTE']\n",
    "\n",
    "scaler = MinMaxScaler()\n",
    "x_scaled = scaler.fit_transform(x)\n",
    "x = pd.DataFrame(x_scaled, index = x.index, columns = x.columns)\n",
    "x"
   ]
  },
  {
   "cell_type": "code",
   "execution_count": 48,
   "metadata": {},
   "outputs": [],
   "source": [
    "x_train, x_test, y_train, y_test = train_test_split(x, y, test_size=0.3, random_state=None)"
   ]
  },
  {
   "cell_type": "code",
   "execution_count": 49,
   "metadata": {},
   "outputs": [
    {
     "name": "stdout",
     "output_type": "stream",
     "text": [
      "porcentaje de datos para x\n",
      "\n",
      "69.89966555183946\n",
      "30.100334448160535\n",
      "\n",
      "porcentaje de datos para y\n",
      "\n",
      "69.89966555183946\n",
      "30.100334448160535\n"
     ]
    }
   ],
   "source": [
    "print('porcentaje de datos para x\\n')\n",
    "print((x_train.shape[0] * 100) / x.shape[0])\n",
    "print((x_test.shape[0] * 100) / x.shape[0])\n",
    "\n",
    "print('\\nporcentaje de datos para y\\n')\n",
    "print((y_train.shape[0] * 100) / y.shape[0])\n",
    "print((x_test.shape[0] * 100) / y.shape[0])"
   ]
  },
  {
   "attachments": {},
   "cell_type": "markdown",
   "metadata": {},
   "source": [
    "## Modelos"
   ]
  },
  {
   "attachments": {},
   "cell_type": "markdown",
   "metadata": {},
   "source": [
    "El F1-score es el promedio armónico de la precisión y la exhaustividad, donde el F1-score alcanza su mejor valor en 1 y su peor valor en 0\n",
    "\n",
    "* Matríz de confusión (F1-score)\n",
    "La matriz de confusión muestra las predicciones correctas y exhaustivas, en comparación con las etiquetas reales.\n",
    "La matriz de confusión muestra la habilidad del modelo para predecir correctamente\n",
    "\n",
    "* Precisión se calcula con los datos de prueba y los resultados esperados.\n",
    "\n",
    "https://www.statdeveloper.com/evaluacion-del-modelo-de-clasificacion/"
   ]
  },
  {
   "attachments": {},
   "cell_type": "markdown",
   "metadata": {},
   "source": [
    "### Logistica"
   ]
  },
  {
   "cell_type": "code",
   "execution_count": 50,
   "metadata": {},
   "outputs": [],
   "source": [
    "\n",
    "log_model = LogisticRegression()\n",
    "log_model.fit(x_train, y_train)\n",
    "y_pred_log = log_model.predict(x_test)\n",
    "\n",
    "log_model_acc = log_model.score(x_test, y_test)\n",
    "log_model_f1 = f1_score(y_test, y_pred_log)"
   ]
  },
  {
   "attachments": {},
   "cell_type": "markdown",
   "metadata": {},
   "source": [
    "### Support Vector Classification"
   ]
  },
  {
   "cell_type": "code",
   "execution_count": 51,
   "metadata": {},
   "outputs": [],
   "source": [
    "svc_model = SVC()\n",
    "svc_model.fit(x_train, y_train)\n",
    "y_pred_svc = svc_model.predict(x_test)\n",
    "\n",
    "svc_model_acc = svc_model.score(x_test, y_test)\n",
    "svc_model_f1 = f1_score(y_test, y_pred_svc)"
   ]
  },
  {
   "attachments": {},
   "cell_type": "markdown",
   "metadata": {},
   "source": [
    "### Multi-layer Perceptron classifier."
   ]
  },
  {
   "cell_type": "code",
   "execution_count": 52,
   "metadata": {},
   "outputs": [],
   "source": [
    "mlp_model = MLPClassifier(hidden_layer_sizes=(128, 128), max_iter=500)\n",
    "mlp_model.fit(x_train, y_train)\n",
    "y_pred_mlp = mlp_model.predict(x_test)\n",
    "\n",
    "mlp_model_acc = mlp_model.score(x_test, y_test)\n",
    "mlp_model_f1 = f1_score(y_test, y_pred_mlp)"
   ]
  },
  {
   "cell_type": "code",
   "execution_count": 53,
   "metadata": {},
   "outputs": [
    {
     "name": "stdout",
     "output_type": "stream",
     "text": [
      "\n",
      "Logistica\n",
      "\n",
      "log_model_acc : 0.8333333333333334\n",
      "log_model_f1 : 0.7058823529411765\n",
      "\n",
      "SVC\n",
      "\n",
      "svc_model_acc : 0.7555555555555555\n",
      "svc_model_f1 : 0.5217391304347826\n",
      "\n",
      "MLP\n",
      "\n",
      "mlp_model_acc : 0.8111111111111111\n",
      "mlp_model_f1 : 0.6666666666666666\n"
     ]
    }
   ],
   "source": [
    "\n",
    "print('\\nLogistica\\n')\n",
    "print(f\"log_model_acc : {log_model_acc}\")\n",
    "print(f\"log_model_f1 : {log_model_f1}\")\n",
    "print('\\nSVC\\n')\n",
    "print(f\"svc_model_acc : {svc_model_acc}\")\n",
    "print(f\"svc_model_f1 : {svc_model_f1}\")\n",
    "print('\\nMLP\\n')\n",
    "print(f\"mlp_model_acc : {mlp_model_acc}\")\n",
    "print(f\"mlp_model_f1 : {mlp_model_f1}\")\n",
    "\n"
   ]
  },
  {
   "attachments": {},
   "cell_type": "markdown",
   "metadata": {},
   "source": [
    "## Prediccion"
   ]
  },
  {
   "cell_type": "code",
   "execution_count": 54,
   "metadata": {},
   "outputs": [
    {
     "name": "stdout",
     "output_type": "stream",
     "text": [
      "\n",
      "Logistica\n",
      "\n",
      "[1 1 0 1 1 0 0 0 1 1 0 0 0 0 0 1 1 0 0 0 1 1 0 0 1 0 0 1 0 0 0 1 0 1 0 0 0\n",
      " 0 0 0 0 1 1 0 1 0 0 0 0 0 1 0 0 0 0 0 1 0 0 1 0 0 1 0 0 0 1 1 0 0 0 0 1 1\n",
      " 1 0 0 1 0 0 0 0 1 0 0 0 0 0 0 0]\n",
      "[1 1 0 1 1 0 0 0 0 0 0 0 0 0 0 1 1 0 0 1 0 0 0 0 1 0 1 1 0 0 0 0 0 1 0 0 0\n",
      " 0 0 1 0 1 0 0 0 0 0 1 0 0 1 0 1 0 0 0 1 0 0 1 0 0 0 0 0 0 0 0 0 1 0 0 1 1\n",
      " 1 0 0 1 0 0 0 0 0 0 0 0 0 0 0 0]\n",
      "\n",
      "SVC\n",
      "\n",
      "[1 1 0 1 1 0 0 0 1 1 0 0 0 0 0 1 1 0 0 0 1 1 0 0 1 0 0 1 0 0 0 1 0 1 0 0 0\n",
      " 0 0 0 0 1 1 0 1 0 0 0 0 0 1 0 0 0 0 0 1 0 0 1 0 0 1 0 0 0 1 1 0 0 0 0 1 1\n",
      " 1 0 0 1 0 0 0 0 1 0 0 0 0 0 0 0]\n",
      "[1 1 0 1 1 0 0 0 0 0 0 0 0 0 0 0 1 0 0 1 1 0 0 0 0 0 1 1 0 0 0 0 0 0 0 0 0\n",
      " 0 0 1 0 1 0 0 0 0 0 1 0 0 1 0 1 0 0 0 1 0 0 0 0 0 0 0 0 0 0 0 0 1 0 0 1 0\n",
      " 1 0 0 0 0 0 0 0 0 0 0 0 0 0 0 0]\n",
      "\n",
      "MLP\n",
      "\n",
      "[1 1 0 1 1 0 0 0 1 1 0 0 0 0 0 1 1 0 0 0 1 1 0 0 1 0 0 1 0 0 0 1 0 1 0 0 0\n",
      " 0 0 0 0 1 1 0 1 0 0 0 0 0 1 0 0 0 0 0 1 0 0 1 0 0 1 0 0 0 1 1 0 0 0 0 1 1\n",
      " 1 0 0 1 0 0 0 0 1 0 0 0 0 0 0 0]\n",
      "[1 1 0 1 1 0 0 0 0 0 0 0 0 0 0 1 1 0 0 1 0 0 0 0 1 0 1 1 0 0 0 0 0 1 0 0 0\n",
      " 0 0 1 0 1 0 0 0 0 0 1 0 0 1 0 1 0 0 0 1 0 0 1 0 0 0 0 0 0 0 0 0 1 0 0 1 1\n",
      " 1 0 0 1 0 0 0 0 0 0 0 0 0 0 0 0]\n"
     ]
    }
   ],
   "source": [
    "print('\\nLogistica\\n')\n",
    "print(y_test.to_numpy())\n",
    "print(y_pred_mlp)\n",
    "\n",
    "print('\\nSVC\\n')\n",
    "print(y_test.to_numpy())\n",
    "print(y_pred_svc)\n",
    "\n",
    "print('\\nMLP\\n')\n",
    "print(y_test.to_numpy())\n",
    "print(y_pred_mlp)"
   ]
  }
 ],
 "metadata": {
  "kernelspec": {
   "display_name": ".venv",
   "language": "python",
   "name": "python3"
  },
  "language_info": {
   "codemirror_mode": {
    "name": "ipython",
    "version": 3
   },
   "file_extension": ".py",
   "mimetype": "text/x-python",
   "name": "python",
   "nbconvert_exporter": "python",
   "pygments_lexer": "ipython3",
   "version": "3.9.2"
  },
  "orig_nbformat": 4
 },
 "nbformat": 4,
 "nbformat_minor": 2
}
