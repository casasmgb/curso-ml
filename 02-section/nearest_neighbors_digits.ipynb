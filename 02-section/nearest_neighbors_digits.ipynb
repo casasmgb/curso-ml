{
 "cells": [
  {
   "cell_type": "code",
   "execution_count": null,
   "metadata": {},
   "outputs": [],
   "source": [
    "import numpy as np\n",
    "import matplotlib.pyplot as plt\n",
    "from sklearn.datasets import fetch_openml\n",
    "from sklearn.neighbors import NearestNeighbors\n",
    "\n",
    "# Cargar un subconjunto de imágenes del conjunto MNIST\n",
    "mnist = fetch_openml(\"mnist_784\", version=1)\n"
   ]
  },
  {
   "cell_type": "code",
   "execution_count": null,
   "metadata": {},
   "outputs": [],
   "source": [
    "X, y = mnist[\"data\"], mnist[\"target\"]"
   ]
  },
  {
   "cell_type": "code",
   "execution_count": null,
   "metadata": {},
   "outputs": [],
   "source": [
    "(X.iloc[2].to_numpy())"
   ]
  },
  {
   "cell_type": "code",
   "execution_count": null,
   "metadata": {},
   "outputs": [],
   "source": [
    "X = X / 255.0  # Normalizar los valores de píxeles"
   ]
  },
  {
   "cell_type": "code",
   "execution_count": null,
   "metadata": {},
   "outputs": [],
   "source": [
    "# Elegir una imagen de consulta\n",
    "query_image_idx = 100\n",
    "query_image = X.iloc[query_image_idx].to_numpy().reshape(28, 28)\n",
    "\n",
    "# Mostrar la imagen de consulta\n",
    "plt.figure(figsize=(4, 4))\n",
    "plt.imshow(query_image, cmap=\"gray\")\n",
    "plt.title(\"Imagen de Consulta\")\n",
    "plt.axis(\"off\")\n",
    "plt.show()\n"
   ]
  },
  {
   "cell_type": "markdown",
   "metadata": {},
   "source": [
    "## Modelo NearestNeighbors"
   ]
  },
  {
   "cell_type": "code",
   "execution_count": null,
   "metadata": {},
   "outputs": [],
   "source": [
    "k = 10\n",
    "knn = NearestNeighbors(n_neighbors=k)\n",
    "knn.fit(X)"
   ]
  },
  {
   "cell_type": "code",
   "execution_count": null,
   "metadata": {},
   "outputs": [],
   "source": [
    "distances, indices = knn.kneighbors([X.iloc[query_image_idx]], n_neighbors=k)\n",
    "similar_image_indices = indices[0]\n",
    "\n",
    "# Mostrar las imágenes similares y sus distancias\n",
    "plt.figure(figsize=(12, 8))\n",
    "for i, idx in enumerate(indices[0]):\n",
    "    plt.subplot(2, k // 2, i + 1)\n",
    "    plt.imshow(X.iloc[idx].to_numpy().reshape(28, 28), cmap=\"gray\")\n",
    "    plt.title(f\"Distancia: {distances[0][i]:.2f}\")\n",
    "    plt.axis(\"off\")\n",
    "plt.show()"
   ]
  },
  {
   "cell_type": "code",
   "execution_count": null,
   "metadata": {},
   "outputs": [],
   "source": [
    "\n",
    "# Medir la distancia media de las imágenes recuperadas\n",
    "average_distance = np.mean(distances)\n",
    "print(f\"Distancia media de las imágenes recuperadas: {average_distance:.2f}\")"
   ]
  }
 ],
 "metadata": {
  "kernelspec": {
   "display_name": "Python 3",
   "language": "python",
   "name": "python3"
  },
  "language_info": {
   "codemirror_mode": {
    "name": "ipython",
    "version": 3
   },
   "file_extension": ".py",
   "mimetype": "text/x-python",
   "name": "python",
   "nbconvert_exporter": "python",
   "pygments_lexer": "ipython3",
   "version": "3.11.2"
  },
  "orig_nbformat": 4
 },
 "nbformat": 4,
 "nbformat_minor": 2
}
