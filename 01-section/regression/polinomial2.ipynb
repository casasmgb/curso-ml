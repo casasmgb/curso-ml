{
 "cells": [
  {
   "cell_type": "code",
   "execution_count": null,
   "metadata": {},
   "outputs": [],
   "source": [
    "import numpy as np\n",
    "from sklearn.linear_model import LinearRegression\n",
    "from sklearn.preprocessing import PolynomialFeatures\n",
    "import matplotlib.pyplot as plt"
   ]
  },
  {
   "cell_type": "code",
   "execution_count": null,
   "metadata": {},
   "outputs": [],
   "source": [
    "## Datos 1\n",
    "# x = [ 0.30876741, 0.87125418, 2.33991781, 2.34027961, 2.72737451, 2.75106765, 3.18508666, 4.3684371, 4.56363364, 5.61810178, 6.47917528, 7.87134647, 8.97987726, 9.01672518, 10.62108867, 10.97990913, 12.48663961, 12.99264219, 14.2607146,  14.54864778]\n",
    "# y = [-1.01185119e+03,  3.16731117e+02, -9.18124438e+02, -1.42241222e+03, 1.44397381e+03, -2.48382913e+02,  2.11216041e+01, -1.67134017e+03, -8.59145736e+02, -9.16830310e+02, -3.48433266e+03, -6.73022744e+03, -1.55801722e+04, -1.56205625e+04, -3.88916478e+04, -4.41819927e+04, -9.34726025e+04, -1.17197592e+05, -1.91955637e+05, -2.16052293e+05]\n",
    "\n",
    "## Datos 2\n",
    "x = [0.30, 0.87, 2.33, 2.34, 2.72, 2.75, 3.18, 4.36, 4.56, 5.61, 6.47, 7.87, 8.97, 9.01, 10.62, 10.97, 12.48, 12.99, 14.26, 14.54]\n",
    "y = [-1.01, 3.16, -9.18, -1.42, 1.44, -2.48, 2.11, -1.67, -8.59, -9.16, -3.48, -6.73, -1.55, -1.56, -3.88, -4.41, -9.34, -1.17, -1.91, -2.16]\n"
   ]
  },
  {
   "cell_type": "code",
   "execution_count": null,
   "metadata": {},
   "outputs": [],
   "source": [
    "x = np.array(x)[:, np.newaxis]\n",
    "x"
   ]
  },
  {
   "cell_type": "code",
   "execution_count": null,
   "metadata": {},
   "outputs": [],
   "source": [
    "x = np.array(x).reshape((-1, 1))\n",
    "y = np.array(y)\n",
    "x"
   ]
  },
  {
   "attachments": {},
   "cell_type": "markdown",
   "metadata": {},
   "source": [
    "**degree** es un número entero (2 por defecto) que representa el grado de la función de regresión polinomial.\n",
    "\n",
    "**interaction_only** es un valor booleano (falso de forma predeterminada) que decide si se incluyen solo las funciones de interacción (verdadero) o todas las funciones (falso).\n",
    "\n",
    "**include_bias** es un valor booleano (Verdadero de forma predeterminada) que decide si incluir la columna de sesgo o intercepción de 1 valores (Verdadero) o no (Falso).\n",
    "\n",
    "El término \"sesgo\" se refiere a la diferencia entre las predicciones realizadas por un modelo y los valores reales del conjunto de datos."
   ]
  },
  {
   "cell_type": "code",
   "execution_count": null,
   "metadata": {},
   "outputs": [],
   "source": [
    "transformer = PolynomialFeatures(degree=8)"
   ]
  },
  {
   "cell_type": "markdown",
   "metadata": {},
   "source": [
    "El conjunto de datos es transformado usando **PolynomialFeatures** para convertirlo en un conjunto de características polinomiales. Luego, se aplica la regresión lineal en estos datos transformados.\n",
    "\n",
    "Por que?\n",
    "aunque el modelo resultante es una regresión lineal en el espacio de características polinomiales, todavía se puede expresar como una combinación lineal de las nuevas características. Por lo tanto, técnicamente, sigue siendo una regresión lineal, pero en un espacio de características expandido."
   ]
  },
  {
   "cell_type": "code",
   "execution_count": null,
   "metadata": {},
   "outputs": [],
   "source": [
    "x_ = transformer.fit_transform(x)\n",
    "x_"
   ]
  },
  {
   "cell_type": "code",
   "execution_count": null,
   "metadata": {},
   "outputs": [],
   "source": [
    "# Crear modelo de regresión lineal\n",
    "model = LinearRegression()\n",
    "model.fit(x_, y)"
   ]
  },
  {
   "attachments": {},
   "cell_type": "markdown",
   "metadata": {},
   "source": [
    "## Obtener Resultados"
   ]
  },
  {
   "cell_type": "code",
   "execution_count": null,
   "metadata": {},
   "outputs": [],
   "source": [
    "r_sq = model.score(x_, y)\n",
    "print(f\"coeficiente de determinacion R²:\\t {r_sq}\")\n",
    "\n",
    "b0 = model.intercept_\n",
    "print(f\"b0 Término independiente (intercepto):\\t {b0}\")\n",
    "\n",
    "b1 = model.coef_\n",
    "print(f\"b1 Coeficiente (pendiente):\\t\\t {b1}\")\n"
   ]
  },
  {
   "attachments": {},
   "cell_type": "markdown",
   "metadata": {},
   "source": [
    "# Prediccion"
   ]
  },
  {
   "cell_type": "code",
   "execution_count": null,
   "metadata": {},
   "outputs": [],
   "source": [
    "y_pred_original = model.predict(x_)\n",
    "print(f\"prediccion:\\n{y_pred_original}\")"
   ]
  },
  {
   "cell_type": "markdown",
   "metadata": {},
   "source": [
    "## Predicir otros valores que no estan en el dataset"
   ]
  },
  {
   "cell_type": "code",
   "execution_count": null,
   "metadata": {},
   "outputs": [],
   "source": [
    "# Predicción en nuevos datos\n",
    "x_new = np.array([7, 5, 11])[:, np.newaxis]\n",
    "x_new_poly = transformer.transform(x_new)\n",
    "y_pred_new = model.predict(x_new_poly)\n",
    "y_pred_new"
   ]
  },
  {
   "attachments": {},
   "cell_type": "markdown",
   "metadata": {},
   "source": [
    "## Grafica"
   ]
  },
  {
   "cell_type": "code",
   "execution_count": null,
   "metadata": {},
   "outputs": [],
   "source": [
    "plt.scatter(x[:, 0], y, color='blue', label='Datos Originales')\n",
    "plt.plot(x[:, 0], y_pred_original, color='green', label='Regresión Polinomial')\n",
    "plt.scatter(x_new, y_pred_new, color='red', label='Predicciones Nuevos Datos')\n",
    "plt.xlabel('X')\n",
    "plt.ylabel('y')\n",
    "plt.title('Regresión Polinomial con Predicciones')\n",
    "plt.legend()\n",
    "plt.grid(True)\n",
    "plt.show()\n"
   ]
  },
  {
   "cell_type": "code",
   "execution_count": null,
   "metadata": {},
   "outputs": [],
   "source": [
    "\n",
    "\n",
    "transformer = PolynomialFeatures(degree=9, include_bias=False)"
   ]
  }
 ],
 "metadata": {
  "kernelspec": {
   "display_name": ".venv",
   "language": "python",
   "name": "python3"
  },
  "language_info": {
   "codemirror_mode": {
    "name": "ipython",
    "version": 3
   },
   "file_extension": ".py",
   "mimetype": "text/x-python",
   "name": "python",
   "nbconvert_exporter": "python",
   "pygments_lexer": "ipython3",
   "version": "3.11.2"
  },
  "orig_nbformat": 4
 },
 "nbformat": 4,
 "nbformat_minor": 2
}
