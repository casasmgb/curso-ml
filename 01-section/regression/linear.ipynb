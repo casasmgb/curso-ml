{
 "cells": [
  {
   "attachments": {},
   "cell_type": "markdown",
   "metadata": {},
   "source": [
    "## Importamos librerias"
   ]
  },
  {
   "cell_type": "code",
   "execution_count": null,
   "metadata": {},
   "outputs": [],
   "source": [
    "import numpy as np\n",
    "from sklearn.linear_model import LinearRegression\n",
    "import matplotlib.pyplot as plt\n",
    "\n",
    "## pip install scikit-learn"
   ]
  },
  {
   "attachments": {},
   "cell_type": "markdown",
   "metadata": {},
   "source": [
    "## Preparamos datos"
   ]
  },
  {
   "cell_type": "code",
   "execution_count": null,
   "metadata": {},
   "outputs": [],
   "source": [
    "x = np.array([3.74,9.50,7.31,5.98,1.56,1.55,0.58,8.66,6.01,7.08,0.20,9.69,8.32,2.12,1.81,1.83,3.04,5.24,4.31,2.91]).reshape((-1,1))\n",
    "y = np.array([9.47,22.32,16.73,13.56,7.58,5.89,4.22,18.89,14.47,17.27,2.26,22.77,19.04,6.95,6.03,8.52,9.07,12.43,12.46,7.60])\n"
   ]
  },
  {
   "cell_type": "code",
   "execution_count": null,
   "metadata": {},
   "outputs": [],
   "source": [
    "x, y"
   ]
  },
  {
   "attachments": {},
   "cell_type": "markdown",
   "metadata": {},
   "source": [
    "# Creamos el modelo"
   ]
  },
  {
   "cell_type": "code",
   "execution_count": null,
   "metadata": {},
   "outputs": [],
   "source": [
    "model = LinearRegression()\n",
    "\n",
    "model.fit(x, y)"
   ]
  },
  {
   "attachments": {},
   "cell_type": "markdown",
   "metadata": {},
   "source": [
    "## Evaluacion del Modelo\n",
    "\n",
    "* R² cercano a 1: Significa que una gran proporción de la variabilidad en la variable dependiente está siendo explicada por el modelo de regresión. (buen ajuste del modelo a los datos)\n",
    "\n",
    "* R² cercano a 0: Indica que el modelo no está explicando bien la variabilidad en la variable dependiente (los valores predichos no se ajustan bien a los valores reales)\n",
    "\n",
    "* R² negativo: Esto puede ocurrir cuando el modelo es inadecuado para los datos y las predicciones son peores que simplemente usar el promedio de los valores reales."
   ]
  },
  {
   "cell_type": "code",
   "execution_count": null,
   "metadata": {},
   "outputs": [],
   "source": [
    "r_sq = model.score(x, y)\n",
    "print(f\"coeficiente de determinacion R²:\\t {r_sq}\")\n",
    "\n",
    "## b0 y b1 son los coeficientes de regresion o conocidos tambien como los pesos predichos\n",
    "\n",
    "\n",
    "b0 = model.intercept_\n",
    "print(f\"b0 Término independiente (intercepto):\\t {b0}\")\n",
    "\n",
    "b1 = model.coef_\n",
    "print(f\"b1 Coeficiente (pendiente):\\t\\t {b1}\")"
   ]
  },
  {
   "attachments": {},
   "cell_type": "markdown",
   "metadata": {},
   "source": [
    "# 𝑏₀ + 𝑏₁𝑥₁ + ⋯ + 𝑏ᵣ𝑥ᵣ."
   ]
  },
  {
   "attachments": {},
   "cell_type": "markdown",
   "metadata": {},
   "source": [
    "## Prediccion"
   ]
  },
  {
   "cell_type": "code",
   "execution_count": null,
   "metadata": {},
   "outputs": [],
   "source": [
    "y_pred = model.predict(x)\n",
    "\n",
    "print(f\"prediccion:\\n{y_pred}\")"
   ]
  },
  {
   "cell_type": "code",
   "execution_count": null,
   "metadata": {},
   "outputs": [],
   "source": [
    "y_pred = b0 + b1 * x\n",
    "print(f\"prediccion:\\n{y_pred}\")"
   ]
  },
  {
   "cell_type": "markdown",
   "metadata": {},
   "source": [
    "## Predicir otros valores que no estan en el dataset"
   ]
  },
  {
   "cell_type": "code",
   "execution_count": null,
   "metadata": {},
   "outputs": [],
   "source": [
    "x_pred = np.array([[4], [7], [9]])  # Valores a predecir\n",
    "y_pred_values = model.predict(x_pred)\n",
    "print(y_pred_values)"
   ]
  },
  {
   "attachments": {},
   "cell_type": "markdown",
   "metadata": {},
   "source": [
    "## Grafica"
   ]
  },
  {
   "cell_type": "code",
   "execution_count": null,
   "metadata": {},
   "outputs": [],
   "source": [
    "# Gráfico de los datos y la regresión lineal\n",
    "plt.figure(figsize=(10, 6))\n",
    "\n",
    "# Gráfico de los datos generados\n",
    "plt.scatter(x, y, color='blue', label='Datos de la Muestra')\n",
    "\n",
    "# Gráfico de la regresión lineal\n",
    "plt.plot(x, y_pred, color='C1', label='Regresión Lineal')\n",
    "\n",
    "# Gráfico de las predicciones\n",
    "plt.scatter(x_pred, y_pred_values, color='green', label='Predicciones')\n",
    "\n",
    "\n",
    "plt.xlabel('X')\n",
    "plt.ylabel('y')\n",
    "plt.title('Regresión Lineal y Predicciones')\n",
    "plt.legend()\n",
    "# plt.grid(True)\n",
    "plt.show()\n",
    "\n",
    "\n"
   ]
  }
 ],
 "metadata": {
  "kernelspec": {
   "display_name": ".venv",
   "language": "python",
   "name": "python3"
  },
  "language_info": {
   "codemirror_mode": {
    "name": "ipython",
    "version": 3
   },
   "file_extension": ".py",
   "mimetype": "text/x-python",
   "name": "python",
   "nbconvert_exporter": "python",
   "pygments_lexer": "ipython3",
   "version": "3.11.2"
  },
  "orig_nbformat": 4
 },
 "nbformat": 4,
 "nbformat_minor": 2
}
