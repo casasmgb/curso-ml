{
 "cells": [
  {
   "cell_type": "code",
   "execution_count": null,
   "metadata": {},
   "outputs": [],
   "source": [
    "import numpy as np\n",
    "import matplotlib.pyplot as plt\n",
    "from sklearn.linear_model import LinearRegression"
   ]
  },
  {
   "cell_type": "code",
   "execution_count": null,
   "metadata": {},
   "outputs": [],
   "source": [
    "x1 = [ [3.74],[9.50],[7.31],[5.98],[1.56],[1.55],[0.58],[8.66],[6.01],[7.08],[0.20],[9.69],[8.32],[2.12],[1.81],[1.83],[3.04],[5.24],[4.31],[2.91] ]\n",
    "x2 = [ [3.05],[0.69],[1.46],[1.83],[2.28],[3.92],[0.99],[2.57],[2.96],[0.23],[3.03],[0.85],[0.32],[4.74],[4.82],[4.04],[1.52],[0.48],[3.42],[2.20] ]\n",
    "\n",
    "y = [21.65, 25.04, 24.84, 21.24, 15.17, 17.93, 7.82, 30.23, 26.64, 20.02, 14.40, 26.65, 21.14, 22.76, 22.66, 21.85, 15.99, 15.19, 24.22, 17.04 ]\n",
    "\n",
    "x_multiple = np.concatenate((x1, x2), axis=1)\n",
    "y = np.array(y)"
   ]
  },
  {
   "cell_type": "code",
   "execution_count": null,
   "metadata": {},
   "outputs": [],
   "source": [
    "x_multiple"
   ]
  },
  {
   "cell_type": "code",
   "execution_count": null,
   "metadata": {},
   "outputs": [],
   "source": [
    "y"
   ]
  },
  {
   "attachments": {},
   "cell_type": "markdown",
   "metadata": {},
   "source": [
    "## Crear Modelo"
   ]
  },
  {
   "cell_type": "code",
   "execution_count": null,
   "metadata": {},
   "outputs": [],
   "source": [
    "model = LinearRegression()\n",
    "model.fit(x_multiple, y)"
   ]
  },
  {
   "attachments": {},
   "cell_type": "markdown",
   "metadata": {},
   "source": [
    "## Obtener Resultados"
   ]
  },
  {
   "cell_type": "code",
   "execution_count": null,
   "metadata": {},
   "outputs": [],
   "source": [
    "r_sq = model.score(x_multiple, y)\n",
    "print(f\"coeficiente de determinacion R²:\\t {r_sq}\")\n",
    "\n",
    "b0 = model.intercept_\n",
    "print(f\"b0 Término independiente (intercepto):\\t {b0}\")\n",
    "\n",
    "b1 = model.coef_\n",
    "print(f\"b1 Coeficiente (pendiente):\\t\\t {b1}\")\n",
    "\n"
   ]
  },
  {
   "attachments": {},
   "cell_type": "markdown",
   "metadata": {},
   "source": [
    "## Prediccion"
   ]
  },
  {
   "cell_type": "code",
   "execution_count": null,
   "metadata": {},
   "outputs": [],
   "source": [
    "y_pred = model.predict(x_multiple)\n",
    "print(f\"predicted response:\\n{y_pred}\")"
   ]
  },
  {
   "cell_type": "markdown",
   "metadata": {},
   "source": [
    "## Predicir otros valores que no estan en el dataset"
   ]
  },
  {
   "cell_type": "code",
   "execution_count": null,
   "metadata": {},
   "outputs": [],
   "source": [
    "# Predicción\n",
    "x_pred = np.array([[4, 2], [7, 3], [8, 4]])  # Valores a predecir\n",
    "y_pred_values = model.predict(x_pred)\n",
    "\n",
    "print(y_pred_values)"
   ]
  },
  {
   "attachments": {},
   "cell_type": "markdown",
   "metadata": {},
   "source": [
    "# Grafica"
   ]
  },
  {
   "cell_type": "code",
   "execution_count": null,
   "metadata": {},
   "outputs": [],
   "source": [
    "# Gráfico de los datos y la regresión lineal múltiple\n",
    "fig = plt.figure(figsize=(12, 6))\n",
    "\n",
    "# Gráfico de los datos de la muestra\n",
    "ax1 = fig.add_subplot(121, projection='3d')\n",
    "ax1.scatter(x1, x2, y, color='blue', label='Datos la muestra')\n",
    "ax1.set_xlabel('X1')\n",
    "ax1.set_ylabel('X2')\n",
    "ax1.set_zlabel('y')\n",
    "ax1.set_title('Datos la muestra')\n",
    "\n",
    "# Gráfico de la regresión lineal múltiple\n",
    "ax2 = fig.add_subplot(122, projection='3d')\n",
    "ax2.scatter(x1, x2, y, color='blue', label='Datos Generados')\n",
    "X1_mesh, X2_mesh = np.meshgrid(np.linspace(0, 10, 20), np.linspace(0, 5, 20))\n",
    "y_pred_mesh = model.predict(np.array([X1_mesh.ravel(), X2_mesh.ravel()]).T).reshape(X1_mesh.shape)\n",
    "ax2.plot_surface(X1_mesh, X2_mesh, y_pred_mesh, color='C1', alpha=0.5, label='Regresión Lineal Múltiple')\n",
    "ax2.scatter(x_pred[:, 0], x_pred[:, 1], y_pred_values, color='red', label='Predicciones')\n",
    "ax2.set_xlabel('X1')\n",
    "ax2.set_ylabel('X2')\n",
    "ax2.set_zlabel('y')\n",
    "ax2.set_title('Regresión Lineal Múltiple')\n",
    "\n",
    "plt.tight_layout()\n",
    "plt.show()"
   ]
  }
 ],
 "metadata": {
  "kernelspec": {
   "display_name": ".venv",
   "language": "python",
   "name": "python3"
  },
  "language_info": {
   "codemirror_mode": {
    "name": "ipython",
    "version": 3
   },
   "file_extension": ".py",
   "mimetype": "text/x-python",
   "name": "python",
   "nbconvert_exporter": "python",
   "pygments_lexer": "ipython3",
   "version": "3.11.2"
  },
  "orig_nbformat": 4
 },
 "nbformat": 4,
 "nbformat_minor": 2
}
