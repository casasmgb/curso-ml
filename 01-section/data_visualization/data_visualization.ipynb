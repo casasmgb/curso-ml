{
 "cells": [
  {
   "cell_type": "code",
   "execution_count": null,
   "metadata": {},
   "outputs": [],
   "source": [
    "import pandas as pd\n",
    "import numpy as np\n",
    "import matplotlib.pyplot as plt"
   ]
  },
  {
   "cell_type": "code",
   "execution_count": null,
   "metadata": {},
   "outputs": [],
   "source": [
    "%matplotlib inline"
   ]
  },
  {
   "cell_type": "code",
   "execution_count": null,
   "metadata": {},
   "outputs": [],
   "source": [
    "df = pd.read_csv('data.csv')\n",
    "pd.set_option(\"display.max.columns\", None)\n",
    "df.head()"
   ]
  },
  {
   "cell_type": "code",
   "execution_count": null,
   "metadata": {},
   "outputs": [],
   "source": [
    "df.info()"
   ]
  },
  {
   "cell_type": "markdown",
   "metadata": {},
   "source": [
    "#### Varianza:\n",
    "La varianza es una medida de cuánto se dispersan los valores individuales en un conjunto de datos con respecto a la media. \n",
    "\n",
    "Una varianza alta indica que los valores tienden a estar más alejados de la media, mientras que una varianza baja significa que los valores están más cerca de la media. \n",
    "\n",
    "En otras palabras, nos da una idea de la variabilidad o propagación de los datos."
   ]
  },
  {
   "cell_type": "code",
   "execution_count": null,
   "metadata": {},
   "outputs": [],
   "source": [
    "# Calcular la varianza del tiempo\n",
    "varianza_tiempo = np.mean(df['Mediana'])\n",
    "print(f\"Media del tiempo: {varianza_tiempo:.2f}\")\n",
    "\n",
    "varianza_tiempo = np.var(df['Mediana'])\n",
    "print(f\"Varianza del tiempo: {varianza_tiempo:.2f}\")"
   ]
  },
  {
   "cell_type": "markdown",
   "metadata": {},
   "source": [
    "##### Covarianza:\n",
    "La covarianza es una medida que describe cómo dos variables cambian juntas. \n",
    "\n",
    "Si la covarianza es positiva, significa que cuando una variable aumenta, la otra también tiende a aumentar. \n",
    "\n",
    "Si la covarianza es negativa, significa que cuando una variable aumenta, la otra tiende a disminuir. \n",
    "\n",
    "Si la covarianza es cercana a cero, indica que las dos variables no tienen una relación clara.\n"
   ]
  },
  {
   "cell_type": "code",
   "execution_count": null,
   "metadata": {},
   "outputs": [],
   "source": [
    "covarianza = np.cov(df['Mediana'], df['TasaDesempleo'])[0, 1]\n",
    "print(f\"Covarianza entre tiempo y calificación: {covarianza:.2f}\")"
   ]
  },
  {
   "attachments": {},
   "cell_type": "markdown",
   "metadata": {},
   "source": [
    "El dataset contiene algunas columnas relacionadas con los ingresos de los graduados en cada especialidad:\n",
    "\n",
    "* \"Mediana\" es la mediana de los ingresos de los trabajadores a tiempo completo durante todo el año.\n",
    "* \"P25\" es el percentil 25 de los ingresos.\n",
    "* \"P75\" es el percentil 75 de ingresos.\n",
    "* \"Rango\" es el rango del mayor por ganancias medianas.\n",
    "\n",
    "\n",
    "Percentiles:\n",
    "Los percentiles son valores que dividen un conjunto de datos en partes iguales. El percentil P indica el valor por debajo del cual cae un porcentaje dado de los datos.\n",
    "\n",
    "Ejemplo: Supongamos que tienes los salarios de un grupo de trabajadores. Si el salario de alguien está en el percentil 75, significa que ganan más que el 75% de los trabajadores en ese grupo."
   ]
  },
  {
   "cell_type": "code",
   "execution_count": null,
   "metadata": {},
   "outputs": [],
   "source": [
    "#### Ejemplo\n",
    "\n",
    "# Datos \n",
    "tiempos = np.array([20, 30, 35, 45, 60, 65, 70, 80, 85, 90])\n",
    "\n",
    "# Calcular percentiles\n",
    "percentiles = [25, 50, 75]\n",
    "percentile_values = np.percentile(tiempos, percentiles)\n",
    "print(percentile_values)"
   ]
  },
  {
   "cell_type": "code",
   "execution_count": null,
   "metadata": {},
   "outputs": [],
   "source": [
    "posicion = 100\n",
    "percentile_values = [df['P25'][posicion], df['Mediana'][posicion], df['P75'][posicion]]\n",
    "percentiles = [25, 50, 75]\n",
    "dato_resaltado = 38000\n",
    "\n",
    "\n",
    "print (percentile_values)\n",
    "# Crear el gráfico de percentiles\n",
    "plt.figure(figsize=(8, 6))\n",
    "plt.plot(percentiles, percentile_values, marker='o', linestyle='-', color='b', label='Percentiles')\n",
    "plt.scatter([50], [dato_resaltado], color='r', marker='o', label='Dato Resaltado')  # Marcador para el dato resaltado\n",
    "plt.xlabel('Percentiles')\n",
    "plt.ylabel('Valores')\n",
    "plt.title('Gráfico de Percentiles con Dato Resaltado')\n",
    "plt.xticks(percentiles, [f'{p}%' for p in percentiles])  # Etiquetas en el eje x\n",
    "plt.legend()\n",
    "plt.grid(True)\n",
    "plt.show()"
   ]
  },
  {
   "attachments": {},
   "cell_type": "markdown",
   "metadata": {},
   "source": [
    "### Existen diferentes graficos que se pueden usar\n",
    "\n",
    "\n",
    "* **area**        es para parcelas de área.\n",
    "* **bar**         es para gráficos de barras verticales.\n",
    "* **barh**        es para gráficos de barras horizontales.\n",
    "* **box**         es para diagramas de caja.\n",
    "* **hexbin**      es para diagramas de hexbin.\n",
    "* **hist**        es para histogramas.\n",
    "* **kde**         es para gráficos de estimación de densidad del kernel.\n",
    "* **density**     es un alias para \"kde\".\n",
    "* **line**        es para gráficos de líneas.\n",
    "* **pie**         es para gráficos circulares.\n",
    "* **scatter**     es para diagramas de dispersión.\n"
   ]
  },
  {
   "cell_type": "code",
   "execution_count": null,
   "metadata": {},
   "outputs": [],
   "source": [
    "df.plot(x=\"Rango\", y=[\"P25\", \"Mediana\", \"P75\"])\n",
    "plt.show()"
   ]
  },
  {
   "cell_type": "code",
   "execution_count": null,
   "metadata": {},
   "outputs": [],
   "source": [
    "plt.plot(df[\"Rango\"], df[\"P75\"])"
   ]
  },
  {
   "cell_type": "code",
   "execution_count": null,
   "metadata": {},
   "outputs": [],
   "source": [
    "df.plot(x=\"Rango\", y=\"P75\")"
   ]
  },
  {
   "attachments": {},
   "cell_type": "markdown",
   "metadata": {},
   "source": [
    "## Distribuciones y Histograms"
   ]
  },
  {
   "cell_type": "code",
   "execution_count": null,
   "metadata": {},
   "outputs": [],
   "source": [
    "mediana = df[\"Mediana\"]\n",
    "type(mediana)"
   ]
  },
  {
   "cell_type": "code",
   "execution_count": null,
   "metadata": {},
   "outputs": [],
   "source": [
    "mediana.plot(kind=\"hist\")"
   ]
  },
  {
   "attachments": {},
   "cell_type": "markdown",
   "metadata": {},
   "source": [
    "## Valores Atípicos"
   ]
  },
  {
   "cell_type": "code",
   "execution_count": null,
   "metadata": {},
   "outputs": [],
   "source": [
    "top_5 = df.sort_values(by=\"Mediana\", ascending=False).head()"
   ]
  },
  {
   "cell_type": "code",
   "execution_count": null,
   "metadata": {},
   "outputs": [],
   "source": [
    "top_5.plot(x=\"Especialidad\", y=\"Mediana\", kind=\"bar\", rot=5, fontsize=5)\n",
    "\n",
    "#Esta gráfica muestra que el salario medio de los estudiantes de ingeniería petrolera es más de $20,000 más alto que el resto. Las ganancias de las carreras del segundo al cuarto lugar son relativamente similares entre sí."
   ]
  },
  {
   "cell_type": "code",
   "execution_count": null,
   "metadata": {},
   "outputs": [],
   "source": [
    "top_medianas = df[df[\"Mediana\"] > 60000].sort_values(\"Mediana\")\n",
    "top_medianas.plot(x=\"Especialidad\", y=[\"P25\", \"Mediana\", \"P75\"], kind=\"bar\")\n",
    "\n",
    "# Los percentiles 25 y 75 confirman que las carreras de ingeniería petrolera fueron, con mucho, los recién graduados mejor pagados."
   ]
  },
  {
   "attachments": {},
   "cell_type": "markdown",
   "metadata": {},
   "source": [
    "## Comprobar correlación\n",
    "\n",
    "La correlación trata de establecer la relación o dependencia que existe entre las dos variables \n",
    "\n",
    "un cambio en uno resulte en un cambio en el otro"
   ]
  },
  {
   "cell_type": "code",
   "execution_count": null,
   "metadata": {},
   "outputs": [],
   "source": [
    "df.plot(x=\"Mediana\", y=\"TasaDesempleo\", kind=\"scatter\")"
   ]
  },
  {
   "attachments": {},
   "cell_type": "markdown",
   "metadata": {},
   "source": [
    "* correlación despreciable: r < |0.1|\n",
    "* correlación baja: |0.1| < r <= |0.3|\n",
    "* correlación mediana : |0.3| < r <= |0.5|\n",
    "* correlación fuerte o alta: r > |0.5|"
   ]
  },
  {
   "cell_type": "code",
   "execution_count": null,
   "metadata": {},
   "outputs": [],
   "source": [
    "df_corr = df[[\"Mediana\", \"TasaDesempleo\"]]\n",
    "df_corr.corr()\n"
   ]
  },
  {
   "attachments": {},
   "cell_type": "markdown",
   "metadata": {},
   "source": [
    "# Analizar datos categóricos"
   ]
  },
  {
   "cell_type": "code",
   "execution_count": null,
   "metadata": {},
   "outputs": [],
   "source": [
    "cat_totales = df.groupby(\"CategoriaEspecialidad\")[\"Total\"].sum().sort_values()\n",
    "cat_totales"
   ]
  },
  {
   "cell_type": "code",
   "execution_count": null,
   "metadata": {},
   "outputs": [],
   "source": [
    "cat_totales.plot(kind=\"barh\", fontsize=6)"
   ]
  },
  {
   "attachments": {},
   "cell_type": "markdown",
   "metadata": {},
   "source": [
    "## Determinar Ratios"
   ]
  },
  {
   "cell_type": "code",
   "execution_count": null,
   "metadata": {},
   "outputs": [],
   "source": [
    "total_cat_pequenas = cat_totales[cat_totales < 100_000]\n",
    "total_cat_grandes = cat_totales[cat_totales > 100_000]\n",
    "\n",
    "suma_pequenas = pd.Series([total_cat_pequenas.sum()], index=[\"OTROS\"])\n",
    "total_cat_grandes = total_cat_grandes.add(suma_pequenas, fill_value=0)\n",
    "\n",
    "total_cat_grandes.plot(kind=\"pie\", label=\"\", fontsize=6)"
   ]
  }
 ],
 "metadata": {
  "kernelspec": {
   "display_name": ".venv",
   "language": "python",
   "name": "python3"
  },
  "language_info": {
   "codemirror_mode": {
    "name": "ipython",
    "version": 3
   },
   "file_extension": ".py",
   "mimetype": "text/x-python",
   "name": "python",
   "nbconvert_exporter": "python",
   "pygments_lexer": "ipython3",
   "version": "3.11.2"
  },
  "orig_nbformat": 4
 },
 "nbformat": 4,
 "nbformat_minor": 2
}
